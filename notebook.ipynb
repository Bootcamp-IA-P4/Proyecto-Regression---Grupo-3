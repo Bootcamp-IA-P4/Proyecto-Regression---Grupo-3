# %% [markdown]
# # Árboles de Decisión para Regresión - Prueba Rápida
# 
# Este notebook muestra:
# 1. Generación de datos sintéticos.
# 2. Entrenamiento de un árbol de regresión.
# 3. Visualización del árbol.
# 4. Efecto de la profundidad máxima (`max_depth`).

# %% [markdown]
# ## 1. Librerías
import numpy as np
import matplotlib.pyplot as plt
from sklearn.tree import DecisionTreeRegressor, plot_tree
from sklearn.model_selection import train_test_split
from sklearn.metrics import mean_squared_error

# %% [markdown]
# ## 2. Datos Sintéticos (Función No Lineal + Ruido)
np.random.seed(42)
X = np.linspace(0, 10, 100).reshape(-1, 1)
y = np.sin(X).ravel() + np.random.normal(0, 0.1, X.shape[0])

plt.figure(figsize=(10, 4))
plt.scatter(X, y, s=20, edgecolor="black", label="Datos")
plt.title("Datos de Ejemplo (y = sin(x) + ruido)")
plt.xlabel("X")
plt.ylabel("y")
plt.show()

# %% [markdown]
# ## 3. Entrenamiento con Diferentes Profundidades
max_depths = [1, 2, 4, 8]
plt.figure(figsize=(15, 10))

for i, depth in enumerate(max_depths):
    model = DecisionTreeRegressor(max_depth=depth, random_state=42)
    model.fit(X, y)
    y_pred = model.predict(X)
    
    plt.subplot(2, 2, i+1)
    plt.scatter(X, y, s=10, color="blue", label="Datos reales")
    plt.plot(X, y_pred, color="red", linewidth=2, label="Predicción")
    plt.title(f"Árbol con max_depth={depth} (MSE: {mean_squared_error(y, y_pred):.3f})")
    plt.legend()

plt.tight_layout()
plt.show()

# %% [markdown]
# ## 4. Visualización del Árbol (max_depth=2)
model = DecisionTreeRegressor(max_depth=2, random_state=42)
model.fit(X, y)

plt.figure(figsize=(12, 6))
plot_tree(model, filled=True, feature_names=["X"], rounded=True)
plt.title("Estructura del Árbol de Decisión (Regresión)")
plt.show()

# %% [markdown]
# ## 5. Sobreajuste Demostrado (Train vs Test)
X_train, X_test, y_train, y_test = train_test_split(X, y, test_size=0.3, random_state=42)

train_errors = []
test_errors = []
depths = range(1, 15)

for depth in depths:
    model = DecisionTreeRegressor(max_depth=depth, random_state=42)
    model.fit(X_train, y_train)
    train_errors.append(mean_squared_error(y_train, model.predict(X_train)))
    test_errors.append(mean_squared_error(y_test, model.predict(X_test)))

plt.figure(figsize=(8, 4))
plt.plot(depths, train_errors, "b-", label="Train MSE")
plt.plot(depths, test_errors, "r-", label="Test MSE")
plt.xlabel("Profundidad del Árbol")
plt.ylabel("MSE")
plt.legend()
plt.title("Sobreajuste al Aumentar max_depth")
plt.grid()
plt.show()
