{
 "cells": [
  {
   "cell_type": "code",
   "execution_count": null,
   "metadata": {},
   "outputs": [
    {
     "name": "stdout",
     "output_type": "stream",
     "text": [
      "\n",
      "Обработка файла: listings 03_2024.xlsx\n",
      "Успешно обработан файл: listings 03_2024.xlsx\n",
      "Размер датафрейма: (26024, 5)\n",
      "\n",
      "Первые 5 строк:\n",
      "       id last_scraped        room_type    price neighbourhood_cleansed\n",
      "0   21853   2024-03-22     Private room   $31.00               Cármenes\n",
      "1   24805   2024-03-22  Entire home/apt   $92.00            Universidad\n",
      "2  204570   2024-03-22  Entire home/apt  $180.00                 Cortes\n",
      "3   30320   2024-03-22  Entire home/apt      NaN                    Sol\n",
      "4  205199   2024-03-22  Entire home/apt   $65.00            Universidad\n",
      "\n",
      "Обработка файла: listings 03_2025.xlsx\n",
      "Успешно обработан файл: listings 03_2025.xlsx\n",
      "Размер датафрейма: (25288, 5)\n",
      "\n",
      "Первые 5 строк:\n",
      "      id last_scraped        room_type   price neighbourhood_cleansed\n",
      "0  21853   2025-03-11     Private room  $29.00               Cármenes\n",
      "1  30320   2025-03-10  Entire home/apt     NaN                    Sol\n",
      "2  30959   2025-03-10  Entire home/apt     NaN            Embajadores\n",
      "3  40916   2025-03-10  Entire home/apt     NaN            Universidad\n",
      "4  62423   2025-03-12     Private room  $77.00               Justicia\n",
      "\n",
      "Обработка файла: listings 06_2024.xlsx\n"
     ]
    }
   ],
   "source": [
    "import pandas as pd\n",
    "import os\n",
    "\n",
    "# Установить путь к папке data / # Set path to data folder\n",
    "data_path = os.path.join(os.path.dirname(os.getcwd()), 'data')\n",
    "\n",
    "\n",
    "# Get list of all Excel files in data folder / Получить список всех Excel файлов в папке data\n",
    "excel_files = [f for f in os.listdir(data_path) if f.endswith(('.xlsx', '.xls')) and f.startswith('listings')]\n",
    "\n",
    "# Create empty list for dataframes / Создать пустой список для датафреймов\n",
    "dfs = []\n",
    "\n",
    "# Process each file / Обработать каждый файл\n",
    "for file in excel_files:\n",
    "    file_path = os.path.join(data_path, file)\n",
    "    print(f\"\\nProcessing file: {file}\")\n",
    "    \n",
    "    try:\n",
    "        # Read Excel file / Прочитать Excel файл\n",
    "        df = pd.read_excel(file_path)\n",
    "        \n",
    "        # Select required columns / Выбрать нужные колонки\n",
    "        required_columns = ['id', 'last_scraped', 'room_type', 'price', 'neighbourhood_cleansed']\n",
    "        df = df[required_columns]\n",
    "        \n",
    "        # Add dataframe to list / Добавить датафрейм в список\n",
    "        dfs.append(df)\n",
    "        print(f\"Successfully processed file:{file}\")\n",
    "        print(f\"Dataframe size: {df.shape}\")\n",
    "        print(\"\\nFirst rows:\")\n",
    "        print(df.head())\n",
    "        \n",
    "    except Exception as e:\n",
    "        print(f\"Error processing file {file}: {str(e)}\")\n",
    "\n",
    "# Combine all dataframes / Объединить все датафреймы\n",
    "if dfs:\n",
    "    combined_df = pd.concat(dfs, ignore_index=True)\n",
    "    print(f\"\\nTotal size of combined dataframe:  {combined_df.shape}\")\n",
    "    print(\"\\nFirst rows of combined dataframe:\")\n",
    "    print(combined_df.head())\n",
    "else:\n",
    "    print(\"\\nNo dataframes were successfully processed\")"
   ]
  },
  {
   "cell_type": "code",
   "execution_count": null,
   "metadata": {},
   "outputs": [],
   "source": [
    " # Save combined dataframe / Сохранить объединенный датафрейм в Excel файл\n",
    "output_path = os.path.join(data_path, 'combined_data.xlsx')\n",
    "combined_df.to_excel(output_path, index=False)\n",
    "print(f\"\\Combined dataframes were successfully saved: {output_path}\")"
   ]
  },
  {
   "cell_type": "code",
   "execution_count": null,
   "metadata": {},
   "outputs": [],
   "source": []
  }
 ],
 "metadata": {
  "colab": {
   "provenance": []
  },
  "kernelspec": {
   "display_name": "Python 3 (ipykernel)",
   "language": "python",
   "name": "python3"
  },
  "language_info": {
   "codemirror_mode": {
    "name": "ipython",
    "version": 3
   },
   "file_extension": ".py",
   "mimetype": "text/x-python",
   "name": "python",
   "nbconvert_exporter": "python",
   "pygments_lexer": "ipython3",
   "version": "3.13.1"
  }
 },
 "nbformat": 4,
 "nbformat_minor": 4
}
