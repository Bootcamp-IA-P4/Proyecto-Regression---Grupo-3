{
 "cells": [
  {
   "cell_type": "code",
   "execution_count": 24,
   "metadata": {
    "vscode": {
     "languageId": "plaintext"
    }
   },
   "outputs": [],
   "source": [
    "import pandas as pd                    \n",
    "import numpy as np                     \n",
    "import matplotlib.pyplot as plt  \n",
    "import gdown      "
   ]
  },
  {
   "cell_type": "code",
   "execution_count": 25,
   "metadata": {
    "vscode": {
     "languageId": "plaintext"
    }
   },
   "outputs": [
    {
     "name": "stderr",
     "output_type": "stream",
     "text": [
      "Downloading...\n",
      "From: https://drive.google.com/uc?id=1ZHZHXjOvt9baaViFIQMKd9PQlSoJS9tf\n",
      "To: C:\\Users\\Maryna24\\Desktop\\Factoria\\Proyectos\\MODULO II\\Regresion lineal\\Grupo 3\\Proyecto-Regression---Grupo-3\\notebook\\listings.csv\n",
      "100%|██████████████████████████████████████████████████████████████████████████████████| 2.80M/2.80M [00:00<00:00, 19.5MB/s]\n",
      "Downloading...\n",
      "From (original): https://drive.google.com/uc?id=1BazcGCQ1tm2ohAnEVwmp2zYOrIP0qQ_u\n",
      "From (redirected): https://drive.google.com/uc?id=1BazcGCQ1tm2ohAnEVwmp2zYOrIP0qQ_u&confirm=t&uuid=2d09c9e0-b84f-4330-bca8-49034a4cad82\n",
      "To: C:\\Users\\Maryna24\\Desktop\\Factoria\\Proyectos\\MODULO II\\Regresion lineal\\Grupo 3\\Proyecto-Regression---Grupo-3\\notebook\\listings_detailed.csv\n",
      "100%|██████████████████████████████████████████████████████████████████████████████████| 43.6M/43.6M [00:00<00:00, 52.6MB/s]\n"
     ]
    },
    {
     "data": {
      "text/plain": [
       "'listings_detailed.csv'"
      ]
     },
     "execution_count": 25,
     "metadata": {},
     "output_type": "execute_result"
    }
   ],
   "source": [
    "url = 'https://drive.google.com/uc?id=1ZHZHXjOvt9baaViFIQMKd9PQlSoJS9tf'\n",
    "output = 'listings.csv'  \n",
    "url2 = 'https://drive.google.com/uc?id=1BazcGCQ1tm2ohAnEVwmp2zYOrIP0qQ_u'\n",
    "output2 = 'listings_detailed.csv' \n",
    "gdown.download(url, output, quiet=False)\n",
    "gdown.download(url2, output2, quiet=False)"
   ]
  },
  {
   "cell_type": "code",
   "execution_count": 28,
   "metadata": {},
   "outputs": [],
   "source": [
    "listings = pd.read_csv('listings.csv')"
   ]
  },
  {
   "cell_type": "code",
   "execution_count": 29,
   "metadata": {},
   "outputs": [
    {
     "data": {
      "text/plain": [
       "<bound method DataFrame.info of              id                                         name    host_id  \\\n",
       "0          6369     Rooftop terrace room ,  ensuite bathroom      13660   \n",
       "1         21853                         Bright and airy room      83531   \n",
       "2         23001            Apartmento Arganzuela- Madrid Rio      82175   \n",
       "3         24805                       Gran Via Studio Madrid  346366726   \n",
       "4         26825           Single Room whith private Bathroom     114340   \n",
       "...         ...                                          ...        ...   \n",
       "19613  49185822    Habitación con TV con Netflix en Lavapiés  172011610   \n",
       "19614  49186179  Habitación con TV con Netflix en Gaztambide  172011610   \n",
       "19615  49187258    Habitación con TV con Netflix en Chamberí  172011610   \n",
       "19616  49187471        Habitación con TV con Netflix en Goya  172011610   \n",
       "19617  49187791    Habitación con TV con Netflix en Chamberí  172011610   \n",
       "\n",
       "      host_name neighbourhood_group   neighbourhood  latitude  longitude  \\\n",
       "0         Simon           Chamartín  Hispanoamérica  40.45724   -3.67688   \n",
       "1         Abdel              Latina        Cármenes  40.40381   -3.74130   \n",
       "2         Jesus          Arganzuela         Legazpi  40.38840   -3.69511   \n",
       "3             A              Centro     Universidad  40.42183   -3.70529   \n",
       "4      Agustina          Arganzuela         Legazpi  40.38975   -3.69018   \n",
       "...         ...                 ...             ...       ...        ...   \n",
       "19613    Belaid              Centro     Embajadores  40.40756   -3.69937   \n",
       "19614    Belaid            Chamberí      Gaztambide  40.43706   -3.71364   \n",
       "19615    Belaid            Chamberí        Arapiles  40.43857   -3.70715   \n",
       "19616    Belaid           Salamanca      Guindalera  40.43027   -3.66759   \n",
       "19617    Belaid            Chamberí        Arapiles  40.43484   -3.70667   \n",
       "\n",
       "             room_type  price  minimum_nights  number_of_reviews last_review  \\\n",
       "0         Private room     60               1                 78  2020-09-20   \n",
       "1         Private room     31               4                 33  2018-07-15   \n",
       "2      Entire home/apt     50              15                  0         NaN   \n",
       "3      Entire home/apt     92               5                 10  2020-03-01   \n",
       "4         Private room     26               2                149  2020-03-12   \n",
       "...                ...    ...             ...                ...         ...   \n",
       "19613     Private room     23              30                  0         NaN   \n",
       "19614     Private room     21              30                  0         NaN   \n",
       "19615     Private room     22               7                  0         NaN   \n",
       "19616     Private room     19              30                  0         NaN   \n",
       "19617     Private room     20              30                  0         NaN   \n",
       "\n",
       "       reviews_per_month  calculated_host_listings_count  availability_365  \n",
       "0                   0.58                               1               180  \n",
       "1                   0.42                               2               364  \n",
       "2                    NaN                               7                 1  \n",
       "3                   0.13                               1                72  \n",
       "4                   1.12                               1               365  \n",
       "...                  ...                             ...               ...  \n",
       "19613                NaN                               8               349  \n",
       "19614                NaN                               8               350  \n",
       "19615                NaN                               8               364  \n",
       "19616                NaN                               8               349  \n",
       "19617                NaN                               8               349  \n",
       "\n",
       "[19618 rows x 16 columns]>"
      ]
     },
     "execution_count": 29,
     "metadata": {},
     "output_type": "execute_result"
    }
   ],
   "source": [
    "listings.info"
   ]
  },
  {
   "cell_type": "code",
   "execution_count": null,
   "metadata": {},
   "outputs": [],
   "source": []
  }
 ],
 "metadata": {
  "kernelspec": {
   "display_name": "Python (venv)",
   "language": "python",
   "name": "venv"
  },
  "language_info": {
   "codemirror_mode": {
    "name": "ipython",
    "version": 3
   },
   "file_extension": ".py",
   "mimetype": "text/x-python",
   "name": "python",
   "nbconvert_exporter": "python",
   "pygments_lexer": "ipython3",
   "version": "3.13.1"
  }
 },
 "nbformat": 4,
 "nbformat_minor": 4
}
