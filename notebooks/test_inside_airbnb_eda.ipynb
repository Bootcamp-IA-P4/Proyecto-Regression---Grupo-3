import pandas as pd
import numpy as np
from pandas.testing import assert_frame_equal

# filepath: notebooks/test_inside_airbnb_eda.ipynb

import matplotlib.pyplot as plt

# Mock DataFrame for testing
data = {
    "id": ["1", "2", "3", "4", "5"],
    "scrape_id": ["101", "102", "103", "104", "105"],
    "neighbourhood_cleansed": ["A", "B", "A", "C", "B"],
    "room_type": ["Entire home/apt", "Private room", "Entire home/apt", "Shared room", "Private room"],
    "accommodates": [2, 1, 4, 1, 2],
    "bathrooms": [1.0, 0.5, 2.0, 1.0, 1.5],
    "price": [100.0, 50.0, 200.0, 30.0, 75.0],
    "calendar_last_scraped": pd.to_datetime(["2023-01-01", "2023-01-02", "2023-01-03", "2023-01-04", "2023-01-05"]),
}
df_final = pd.DataFrame(data)

# Test 1: Descriptive Statistics
def test_descriptive_statistics():
    stats = df_final.describe(include="all")
    assert stats is not None
    print("Descriptive statistics test passed.")

# Test 2: Missing Values
def test_missing_values():
    missing_data = df_final.isnull().sum().to_frame(name="missing_count")
    missing_data["missing_pct"] = (missing_data["missing_count"] / len(df_final)) * 100
    expected_missing_data = pd.DataFrame({
        "missing_count": [0, 0, 0, 0, 0, 0, 0, 0],
        "missing_pct": [0.0] * 8,
    }, index=df_final.columns)
    assert_frame_equal(missing_data, expected_missing_data)
    print("Missing values test passed.")

# Test 3: Top 5 Neighborhoods
def test_top_neighbourhoods():
    top_neighbourhoods = df_final["neighbourhood_cleansed"].value_counts().head(5)
    expected_top_neighbourhoods = pd.Series({"A": 2, "B": 2, "C": 1})
    assert top_neighbourhoods.equals(expected_top_neighbourhoods)
    print("Top neighborhoods test passed.")

# Test 4: Price Distribution (Visual Verification)
def test_price_distribution():
    plt.figure(figsize=(12, 5))
    plt.subplot(1, 2, 1)
    df_final["price"].plot(kind="hist", bins=30, edgecolor="black")
    plt.title("Distribución de Precios")
    plt.xlabel("Precio (€uros)")

    plt.subplot(1, 2, 2)
    df_final["price"].plot(kind="box", vert=False)
    plt.title("Boxplot de Precios")
    plt.tight_layout()
    plt.show()
    print("Price distribution test passed (visual verification).")

# Run Tests
test_descriptive_statistics()
test_missing_values()
test_top_neighbourhoods()
test_price_distribution()import pandas as pd
import numpy as np
from pathlib import Path

# Test file: notebooks/test_inside_airbnb_eda.ipynb

import matplotlib.pyplot as plt

# Sample DataFrame for testing
def create_sample_dataframe():
    data = {
        "id": ["1", "2", "3", "4", "5"],
        "scrape_id": ["101", "102", "103", "104", "105"],
        "neighbourhood_cleansed": ["A", "B", "A", "C", "B"],
        "room_type": ["Entire home/apt", "Private room", "Entire home/apt", "Shared room", "Private room"],
        "accommodates": [2, 1, 4, 1, 2],
        "bathrooms": [1, 1, 2, np.nan, 1],
        "price": [100.0, 50.0, 150.0, 30.0, 60.0],
        "calendar_last_scraped": pd.to_datetime(["2023-01-01", "2023-01-02", "2023-01-03", "2023-01-04", "2023-01-05"]),
    }
    return pd.DataFrame(data)

# Test 1: Check describe statistics
def test_describe_statistics():
    df = create_sample_dataframe()
    stats = df.describe(include="all")
    assert "price" in stats.columns, "Price column missing in describe output"
    assert stats.loc["mean", "price"] == 78.0, "Mean price calculation is incorrect"

# Test 2: Check missing values
def test_missing_values():
    df = create_sample_dataframe()
    missing_data = df.isnull().sum()
    assert missing_data["bathrooms"] == 1, "Missing value count for bathrooms is incorrect"

# Test 3: Check top neighborhoods
def test_top_neighborhoods():
    df = create_sample_dataframe()
    top_neighbourhoods = df["neighbourhood_cleansed"].value_counts().head(5)
    assert top_neighbourhoods.index[0] == "A", "Top neighborhood is incorrect"
    assert top_neighbourhoods.iloc[0] == 2, "Frequency of top neighborhood is incorrect"

# Run tests
if __name__ == "__main__":
    test_describe_statistics()
    print("Test 1 passed: Describe statistics are correct.")
    
    test_missing_values()
    print("Test 2 passed: Missing values calculation is correct.")
    
    test_top_neighborhoods()
    print("Test 3 passed: Top neighborhoods calculation is correct.")