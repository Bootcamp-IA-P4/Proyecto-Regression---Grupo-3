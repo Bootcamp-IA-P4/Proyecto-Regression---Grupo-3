{
 "cells": [
  {
   "cell_type": "markdown",
   "id": "0b749180",
   "metadata": {},
   "source": [
    "## INSIDE AIRBNB EDA\n",
    "\n",
    "#### https://insideairbnb.com/"
   ]
  },
  {
   "cell_type": "markdown",
   "id": "0acfcc47",
   "metadata": {},
   "source": [
    "Vamos a abordar este proyecto en dos fases:\n",
    "\n",
    "- Combinar los 5 archivos CSV en un único dataset con las 4 columnas seleccionadas.\n",
    "\n",
    "- Realizar un EDA exhaustivo paso a paso, interpretando resultados y tomando decisiones."
   ]
  },
  {
   "cell_type": "markdown",
   "id": "60ef4c64",
   "metadata": {},
   "source": [
    "#### **1. Objetivo: Unir los archivos en un solo DataFrame con las columnas:**\n",
    "\n",
    "calendar_last_scraped, room_type, price, neighbourhood_cleansed."
   ]
  },
  {
   "cell_type": "markdown",
   "id": "c4514def",
   "metadata": {},
   "source": [
    "**Comprobamos ubicación de los csv's**"
   ]
  },
  {
   "cell_type": "code",
   "execution_count": null,
   "id": "ead58cbd",
   "metadata": {},
   "outputs": [
    {
     "name": "stdout",
     "output_type": "stream",
     "text": [
      "✅ Archivo encontrado: ../data/raw/inside/listings-03-2024.csv\n",
      "✅ Archivo encontrado: ../data/raw/inside/listings-06-2024.csv\n",
      "❌ Archivo NO encontrado: data/raw/inside/listings-12-2024.csv\n"
     ]
    }
   ],
   "source": [
    "import os\n",
    "\n",
    "files = [\n",
    "    \"../data/raw/inside/listings-03-2024.csv\",\n",
    "    \"../data/raw/inside/listings-06-2024.csv\",\n",
    "    \"data/raw/inside/listings-12-2024.csv\" # <- Cambia la ruta a la correcta\n",
    "]\n",
    "\n",
    "for file in files:\n",
    "    if os.path.exists(file):\n",
    "        print(f\"✅ Archivo encontrado: {file}\")\n",
    "    else:\n",
    "        print(f\"❌ Archivo NO encontrado: {file}\")"
   ]
  },
  {
   "cell_type": "markdown",
   "id": "c99bdc4c",
   "metadata": {},
   "source": [
    "Para realizar un **EDA básico orientado a predecir precios futuros** de alojamientos y evaluar su rentabilidad para inversores, seleccionaré las columnas más relevantes y mínimas posibles, priorizando:\n",
    "\n",
    "1. **Variables clave para el modelo de precios** (características del inmueble).  \n",
    "2. **Identificadores únicos** (para evitar duplicados).  \n",
    "3. **Datos temporales** (para análisis de tendencias).  \n",
    "4. **Variables de ubicación** (critical en bienes raíces).  \n",
    "\n",
    "---\n",
    "\n",
    "### 🔍 **Columnas seleccionadas (8 esenciales)**:  \n",
    "\n",
    "| **Columna**                  | **Tipo**       | **Razón**                                                                 |\n",
    "|------------------------------|----------------|---------------------------------------------------------------------------|\n",
    "| `id`                         | Identificador  | Clave primaria única por listing (evitar duplicados).                     |\n",
    "| `scrape_id`                  | Temporal       | Identifica lotes de scraping (útil para detectar duplicados por fecha).   |\n",
    "| `neighbourhood_cleansed`     | Ubicación      | Barrio normalizado (geocodificado), clave para precios.                   |\n",
    "| `room_type`                  | Característica | Tipo de alojamiento (impacto directo en precio).                          |\n",
    "| `accommodates`               | Característica | Capacidad de huéspedes (correlación fuerte con precio).                   |\n",
    "| `bathrooms`                  | Característica | Número de baños (influye en valor).                                       |\n",
    "| `price`                      | Target         | Variable a predecir (precio diario).                                      |\n",
    "| `calendar_last_scraped`      | Temporal       | Fecha de última actualización (para análisis de tendencias temporales).   |\n",
    "\n",
    "---\n",
    "\n",
    "### 🎯 **Por qué estas columnas (y no otras)**:  \n",
    "- **`id` + `scrape_id`**:  \n",
    "  - Garantizan que no hay duplicados (si un `id` se repite en diferentes `scrape_id`, es un error).  \n",
    "  - Ejemplo de chequeo:  \n",
    "    ```python\n",
    "    print(f\"¿IDs únicos?: {df['id'].nunique() == len(df)}\")  # Debe ser True\n",
    "    ```  \n",
    "- **Variables de inmueble (`room_type`, `accommodates`, `bathrooms`)**:  \n",
    "  - Son **predictores fuertes** del precio (ej: un apartamento entero vale más que una habitación privada).  \n",
    "- **`neighbourhood_cleansed`**:  \n",
    "  - Más confiable que `neighbourhood` (está geocodificado). Los precios varían drásticamente por barrio.  \n",
    "- **`price`**:  \n",
    "  - Es la variable objetivo (**target**) para el modelo predictivo.  \n",
    "- **`calendar_last_scraped`**:  \n",
    "  - Permite analizar si los precios cambian en ciertos períodos (ej: temporada alta vs. baja).  \n",
    "\n",
    "---\n",
    "\n",
    "### ⚠️ **Columnas excluidas (pero importantes en fases posteriores)**:  \n",
    "- **`latitude`/`longitude`**: Útiles para mapas, pero en un EDA inicial complican el análisis.  \n",
    "- **`number_of_reviews`**: Relevante para popularidad, pero no directamente para precio.  \n",
    "- **`host_*`**: El anfitrión afecta menos el precio que las características físicas del inmueble.  \n",
    "\n",
    "---"
   ]
  },
  {
   "cell_type": "code",
   "execution_count": 12,
   "id": "eabd755c",
   "metadata": {},
   "outputs": [
    {
     "name": "stdout",
     "output_type": "stream",
     "text": [
      "       id       scrape_id neighbourhood_cleansed        room_type  \\\n",
      "0   21853  20240322023323               Cármenes     Private room   \n",
      "1   24805  20240322023323            Universidad  Entire home/apt   \n",
      "2  204570  20240322023323                 Cortes  Entire home/apt   \n",
      "3   30320  20240322023323                    Sol  Entire home/apt   \n",
      "4  205199  20240322023323            Universidad  Entire home/apt   \n",
      "\n",
      "   accommodates  bathrooms    price calendar_last_scraped  \n",
      "0             1        1.0   $31.00            2024-03-22  \n",
      "1             3        1.0   $92.00            2024-03-22  \n",
      "2             5        2.0  $180.00            2024-03-22  \n",
      "3             2        NaN      NaN            2024-03-22  \n",
      "4             2        1.0   $65.00            2024-03-22  \n",
      "Total de registros: 104996\n"
     ]
    }
   ],
   "source": [
    "import pandas as pd\n",
    "\n",
    "# Listar archivos manualmente (ejemplo)\n",
    "files = [\n",
    "    \"../data/raw/inside/listings-03-2024.csv\",    \n",
    "    \"../data/raw/inside/listings-06-2024.csv\",\n",
    "    \"../data/raw/inside/listings-12-2024.csv\",\n",
    "    \"../data/raw/inside/listings-03-2025.csv\",\n",
    "    # Agrega todos los archivos necesarios\n",
    "]\n",
    "\n",
    "dfs = []\n",
    "for file in files:\n",
    "    try:\n",
    "        df = pd.read_csv(file, usecols=[\"id\", \"scrape_id\", \"neighbourhood_cleansed\", \"room_type\", \n",
    "                                        \"accommodates\", \"bathrooms\", \"price\", \"calendar_last_scraped\"])\n",
    "        dfs.append(df)\n",
    "    except Exception as e:\n",
    "        print(f\"Error al leer {file}: {e}\")\n",
    "\n",
    "if dfs:\n",
    "    df = pd.concat(dfs, ignore_index=True)\n",
    "    print(df.head())\n",
    "    # Verificar    \n",
    "    print(f\"Total de registros: {len(df)}\")\n",
    "else:\n",
    "    print(\"No se cargaron DataFrames para concatenar.\")"
   ]
  },
  {
   "cell_type": "markdown",
   "id": "4cf5f5d5",
   "metadata": {},
   "source": [
    "Pasos críticos:\n",
    "\n",
    "- Verificar que las columnas existen en todos los archivos.\n",
    "\n",
    "- Chequear **duplicados** después de la unión (df.duplicated().sum())."
   ]
  },
  {
   "cell_type": "markdown",
   "id": "e0847bbd",
   "metadata": {},
   "source": [
    "#### **2. EDA**\n",
    "\n",
    "Vamos a analizar las columnas una por una, detectar problemas, y decidir acciones.\n",
    "\n",
    "**A. Análisis Inicial**"
   ]
  },
  {
   "cell_type": "code",
   "execution_count": 5,
   "id": "104e459f",
   "metadata": {},
   "outputs": [
    {
     "name": "stdout",
     "output_type": "stream",
     "text": [
      "<class 'pandas.core.frame.DataFrame'>\n",
      "RangeIndex: 104996 entries, 0 to 104995\n",
      "Data columns (total 4 columns):\n",
      " #   Column                  Non-Null Count   Dtype  \n",
      "---  ------                  --------------   -----  \n",
      " 0   neighbourhood_cleansed  104996 non-null  object \n",
      " 1   room_type               104996 non-null  object \n",
      " 2   price                   82397 non-null   float64\n",
      " 3   calendar_last_scraped   104996 non-null  object \n",
      "dtypes: float64(1), object(3)\n",
      "memory usage: 3.2+ MB\n",
      "None\n",
      "       neighbourhood_cleansed        room_type         price  \\\n",
      "count                  104996           104996  82397.000000   \n",
      "unique                    128                4           NaN   \n",
      "top               Embajadores  Entire home/apt           NaN   \n",
      "freq                    11875            68640           NaN   \n",
      "mean                      NaN              NaN    136.956879   \n",
      "std                       NaN              NaN    369.757066   \n",
      "min                       NaN              NaN      8.000000   \n",
      "25%                       NaN              NaN     63.000000   \n",
      "50%                       NaN              NaN     98.000000   \n",
      "75%                       NaN              NaN    146.000000   \n",
      "max                       NaN              NaN  23124.000000   \n",
      "\n",
      "       calendar_last_scraped  \n",
      "count                 104996  \n",
      "unique                    11  \n",
      "top               2024-06-15  \n",
      "freq                   26924  \n",
      "mean                     NaN  \n",
      "std                      NaN  \n",
      "min                      NaN  \n",
      "25%                      NaN  \n",
      "50%                      NaN  \n",
      "75%                      NaN  \n",
      "max                      NaN  \n"
     ]
    }
   ],
   "source": [
    "# Estructura básica\n",
    "print(df.info())  # Tipos de datos y nulos\n",
    "print(df.describe(include=\"all\"))  # Estadísticas descriptivas\n",
    "\n",
    "# Convertir 'price' a numérico (puede tener símbolos como '$' o comas)\n",
    "#df[\"price\"] = df[\"price\"].replace('[\\$,]', '', regex=True).astype(float)\n",
    "df[\"price\"] = df[\"price\"].replace('[\\\\$,]', '', regex=True).astype(float)"
   ]
  },
  {
   "cell_type": "markdown",
   "id": "8652b9ea",
   "metadata": {},
   "source": [
    "**A.1. Frecuencia relativa**"
   ]
  },
  {
   "cell_type": "code",
   "execution_count": 4,
   "id": "2dd694be",
   "metadata": {},
   "outputs": [
    {
     "name": "stdout",
     "output_type": "stream",
     "text": [
      "neighbourhood_cleansed: 'Embajadores' → 11.31%\n",
      "room_type: 'Entire home/apt' → 65.37%\n",
      "price: '80.0' → 1.26%\n",
      "calendar_last_scraped: '2024-06-15' → 25.64%\n"
     ]
    }
   ],
   "source": [
    "for col in ['neighbourhood_cleansed', 'room_type', 'price', 'calendar_last_scraped']:\n",
    "    freq_rel = (df[col].value_counts(normalize=True).iloc[0] * 100)\n",
    "    top_val = df[col].mode()[0]\n",
    "    print(f\"{col}: '{top_val}' → {freq_rel:.2f}%\")"
   ]
  },
  {
   "cell_type": "markdown",
   "id": "152fb961",
   "metadata": {},
   "source": [
    "**A.2. Duplicados**"
   ]
  },
  {
   "cell_type": "markdown",
   "id": "e9c8100a",
   "metadata": {},
   "source": [
    "Verificar duplicados exactos (filas idénticas)"
   ]
  },
  {
   "cell_type": "code",
   "execution_count": 6,
   "id": "ea182900",
   "metadata": {},
   "outputs": [
    {
     "name": "stdout",
     "output_type": "stream",
     "text": [
      "Número de filas duplicadas (exactas): 58064\n"
     ]
    }
   ],
   "source": [
    "# Contar filas duplicadas (exactamente iguales en todas las columnas)\n",
    "duplicados_totales = df.duplicated().sum()\n",
    "print(f\"Número de filas duplicadas (exactas): {duplicados_totales}\")"
   ]
  },
  {
   "cell_type": "markdown",
   "id": "cce83c91",
   "metadata": {},
   "source": []
  },
  {
   "cell_type": "code",
   "execution_count": 7,
   "id": "c4ef00dc",
   "metadata": {},
   "outputs": [
    {
     "name": "stdout",
     "output_type": "stream",
     "text": [
      "Número de duplicados en columnas clave: 102441\n"
     ]
    }
   ],
   "source": [
    "# Ejemplo: Verificar duplicados en columnas específicas\n",
    "columnas_clave = [\"neighbourhood_cleansed\", \"calendar_last_scraped\", \"room_type\"]\n",
    "duplicados_clave = df.duplicated(subset=columnas_clave).sum()\n",
    "print(f\"Número de duplicados en columnas clave: {duplicados_clave}\")"
   ]
  },
  {
   "cell_type": "markdown",
   "id": "8f03dc54",
   "metadata": {},
   "source": [
    "**Volcado de dataframe a csv para comprobar duplicidad de fechas**"
   ]
  },
  {
   "cell_type": "code",
   "execution_count": 9,
   "id": "0f6598f8",
   "metadata": {},
   "outputs": [],
   "source": [
    "df.to_csv(\"../data/processed/merged-listings.csv\", index=False)"
   ]
  },
  {
   "cell_type": "code",
   "execution_count": 10,
   "id": "4daeaa21",
   "metadata": {},
   "outputs": [
    {
     "name": "stdout",
     "output_type": "stream",
     "text": [
      "Filas duplicadas (idénticas en TODO): 58064\n"
     ]
    }
   ],
   "source": [
    "# Contar filas EXACTAMENTE iguales en todas las columnas\n",
    "duplicados_totales = df.duplicated().sum()\n",
    "print(f\"Filas duplicadas (idénticas en TODO): {duplicados_totales}\")"
   ]
  }
 ],
 "metadata": {
  "kernelspec": {
   "display_name": ".venv-proj5",
   "language": "python",
   "name": "python3"
  },
  "language_info": {
   "codemirror_mode": {
    "name": "ipython",
    "version": 3
   },
   "file_extension": ".py",
   "mimetype": "text/x-python",
   "name": "python",
   "nbconvert_exporter": "python",
   "pygments_lexer": "ipython3",
   "version": "3.12.3"
  }
 },
 "nbformat": 4,
 "nbformat_minor": 5
}
